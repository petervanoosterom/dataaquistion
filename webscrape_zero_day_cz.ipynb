import re
import requests
from bs4 import BeautifulSoup

URL = 'https://www.zero-day.cz/database/?set_filter=Y&arrFilter_pf%5BYEAR_FROM%5D=2019&arrFilter_pf%5BYEAR_TO%5D=2020&arrFilter_pf%5BSEARCH%5D='
page = requests.get(URL)

print(page.status_code)
print('\n'*2)

# get the whole page content page.content give the page in bytes, or page.text gives us text content
# soup = BeautifulSoup(page.content, 'html.parser')
soup = BeautifulSoup(page.text, 'html.parser')
# print(soup.prettify())
# print('\n')
# print ('----------------------------------')
# print('\n')

# Sample of the code that needs to be extracted
# <div class="issue col-md-6" id="item_47">
#    <h3 class="issue-title">
#     <a href="/database/527/" title="Multiple vulnerabilities in Apple iOS - ">
#      Multiple vulnerabilities in Apple iOS
#      <br/>
#      <span class="issue-code">
#       CVE-2019-7286
#      </span>
#     </a>

zerodays = soup.find_all('p')
# print(zerodays[0])
x = len(zerodays)
i = 0
pattern = re.compile(r'\bZero-day\s+vulnerabilities\s+discovered')
while i < x:
    # Convert bytes to string value and 
    # look for this pattern and extract the number issues (48)
    # <p>Zero-day vulnerabilities discovered: 48</p>
    # *******Note the list is actually one less, so 47 not 48, 
    #        either the author made mistake in his code or 
    #        did it delibrately *********


    text = str(zerodays[i])
    issue_list = []
    j = 0
    
    if re.search(pattern, text):
        # print(text)
        issue_num = re.search(r"(\d+)", text).group()
        # print(issue_num)

        # create list of target identifiers
        issue_list = []
        issue_list_end = int(issue_num) 
        for k in range(0, issue_list_end):
            issue_id = "item_" + str(j)
            issue_list.append(issue_id)
            j = j+1
        # print(issue_list)
        i = x  # Exit 'while' the loop gracefully
    i = i+1

for issue_id in issue_list:
    # print(issue_id)
    if (soup.find(id=issue_id)):
        results = soup.find(id=issue_id)
        print(results.prettify())
        print('\n'*2)
        print(issue_id)
        print('----------------------------------')
        print('\n'*2)
    else: 
        print("The web page may have changed, check the Source of the web page!")
        quit()
